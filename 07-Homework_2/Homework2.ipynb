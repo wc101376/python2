{
 "cells": [
  {
   "cell_type": "markdown",
   "metadata": {},
   "source": [
    "# Hacking Incident\n",
    "\n",
    "We're being hacked! We need your help to get a message to the main server.\n",
    "\n",
    "We need you to accomplish 3 tasks:\n",
    "\n",
    "1. Create a Caeser cipher encryption function.\n",
    "2. Create another function that decrypts a Caeser cipher message.\n",
    "\n",
    "We've set up a framework for you to follow here in this notebook. Feel free to use it, or create your own base functions."
   ]
  },
  {
   "cell_type": "markdown",
   "metadata": {},
   "source": [
    "## Encryption Function\n",
    "\n",
    "This function should take in two parameters, the plain text message and the shift number for the Caeser cipher.\n",
    "\n",
    "To create the cipher you will need to create a list of the alphabet. You can either write out the alphabet manually, or use the [string library](https://docs.python.org/3/library/string.html?highlight=string#module-string) to get all the lowercase alphabet. You will first need to run *import string* , and then call the attribute. For example:\n",
    "\n",
    "    import string\n",
    "    alphabet = string.ascii_lowercase\n",
    "    print(alphabet)\n",
    "    print(list(alphabet))\n",
    "    \n",
    "An empty function with some comments is here below for you to fill out:"
   ]
  },
  {
   "cell_type": "code",
   "execution_count": 13,
   "metadata": {
    "collapsed": true
   },
   "outputs": [
    {
     "name": "stdout",
     "output_type": "stream",
     "text": [
      "We are being hacked\n",
      "Jr ner orvat unpxrq\n"
     ]
    }
   ],
   "source": [
    "def encrypt(text,shift):\n",
    "    '''\n",
    "    INPUT: text as a string and an integer for the shift value.\n",
    "    OUTPUT: The shifted text after being run through the Caeser cipher.\n",
    "    '''\n",
    "    \n",
    "    # Create a normal plain alphabet\n",
    "    \n",
    "    # Create a shifted version of this alphabet \n",
    "    # (Try slicing using the shift and then reconcatenating the two parts)\n",
    "    \n",
    "    # Use a for loop to go through each character in the original message.\n",
    "    # Then figure out its index match in the shifted alphabet and replace.\n",
    "    # It might be helpful to create an output variable to hold the new message.\n",
    "    \n",
    "    # Keep in mind you may want to skip punctuation with an if statement.\n",
    "    \n",
    "    # Return the shifted message. Use ''.join() method \n",
    "    # if you still have it as a list.\n",
    "    import string\n",
    "    alphabet = string.ascii_lowercase\n",
    "    shifted_alphabet = alphabet[shift:] + alphabet[:shift]\n",
    "\n",
    "    encrypted_text = ''\n",
    "    for x in text:\n",
    "        if x.isalpha(): \n",
    "            if x.isupper():\n",
    "                index = alphabet.index(x.lower())\n",
    "                encrypted_text += shifted_alphabet[index].upper()\n",
    "            else:\n",
    "                index = alphabet.index(x)\n",
    "                encrypted_text += shifted_alphabet[index]\n",
    "        else:\n",
    "            encrypted_text += x  # Add the character unchanged if it's not a letter\n",
    "    \n",
    "    return encrypted_text\n",
    "\n",
    "text_to_encrypt = input(\"Enter the text to encrypt: \")\n",
    "shift = 13\n",
    "encrypted_message = encrypt(text_to_encrypt, shift)\n",
    "\n",
    "\n",
    "print(text_to_encrypt)\n",
    "print(encrypted_message)\n",
    "\n",
    "\n",
    "pass"
   ]
  },
  {
   "cell_type": "markdown",
   "metadata": {},
   "source": [
    "** An example input and output: **"
   ]
  },
  {
   "cell_type": "code",
   "execution_count": 40,
   "metadata": {},
   "outputs": [
    {
     "data": {
      "text/plain": [
       "'trg guvf zrffntr gb gur znva freire'"
      ]
     },
     "execution_count": 40,
     "metadata": {},
     "output_type": "execute_result"
    }
   ],
   "source": [
    "encrypt('Get this message to the main server',13)"
   ]
  },
  {
   "cell_type": "markdown",
   "metadata": {},
   "source": [
    "## Decryption\n",
    "\n",
    "Now create a new function that will \"decrypt\" a shifted message. It should basically do the reverse of the encryption function. The process will be very similar as your previous function, but the alphabets will be switched."
   ]
  },
  {
   "cell_type": "code",
   "execution_count": 14,
   "metadata": {
    "collapsed": true
   },
   "outputs": [
    {
     "name": "stdout",
     "output_type": "stream",
     "text": [
      "Jr ner orvat unpxrq\n",
      "We are being hacked\n"
     ]
    }
   ],
   "source": [
    "def decrypt(text,shift):\n",
    "    '''\n",
    "    INPUT: A shifted message and the integer shift value\n",
    "    OUTPUT: The plain text original message.\n",
    "    '''\n",
    "    \n",
    "    # Create a normal plain alphabet\n",
    "    \n",
    "    # Create a shifted version of this alphabet with the shift value.\n",
    "    \n",
    "    # Use a for loop to go through each character in the encrypted message.\n",
    "    # Then figure out its index match in the plain alphabet and replace.\n",
    "    # It might be helpful to create an output variable to hold the new message.\n",
    "    \n",
    "    # Keep in mind you may want to skip punctuation with an if statement.\n",
    "    \n",
    "    # Return the original message. Use ''.join() method \n",
    "    # if you still have it as a list.\n",
    "    import string \n",
    "    alphabet = string.ascii_lowercase\n",
    "\n",
    "    shifted = alphabet[shift:] + alphabet[:shift]\n",
    "\n",
    "    decrypted_text = ''\n",
    "    for x in text:\n",
    "        if x.isalpha():\n",
    "            if x.isupper():\n",
    "                index = shifted.index(x.lower())\n",
    "                decrypted_text += alphabet[index].upper()\n",
    "            else:\n",
    "                index = shifted.index(x)\n",
    "                decrypted_text += alphabet[index]\n",
    "        else:\n",
    "            decrypted_text +=  x\n",
    "    return decrypted_text\n",
    "    pass\n",
    "\n",
    "text_to_decrypt =  encrypted_message\n",
    "shift=13\n",
    "decrypted_message = decrypt(encrypted_message, shift)\n",
    "print(encrypted_message)\n",
    "print(decrypted_message)\n"
   ]
  },
  {
   "cell_type": "markdown",
   "metadata": {},
   "source": [
    "** Here is an example output: **"
   ]
  },
  {
   "cell_type": "code",
   "execution_count": 49,
   "metadata": {},
   "outputs": [
    {
     "data": {
      "text/plain": [
       "'get this message to the main server'"
      ]
     },
     "execution_count": 49,
     "metadata": {},
     "output_type": "execute_result"
    }
   ],
   "source": [
    "decrypt('trg guvf zrffntr gb gur znva freire',13)"
   ]
  }
 ],
 "metadata": {
  "kernelspec": {
   "display_name": "Python 3",
   "language": "python",
   "name": "python3"
  },
  "language_info": {
   "codemirror_mode": {
    "name": "ipython",
    "version": 3
   },
   "file_extension": ".py",
   "mimetype": "text/x-python",
   "name": "python",
   "nbconvert_exporter": "python",
   "pygments_lexer": "ipython3",
   "version": "3.12.0"
  }
 },
 "nbformat": 4,
 "nbformat_minor": 2
}
